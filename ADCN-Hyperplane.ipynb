{
 "cells": [
  {
   "cell_type": "code",
   "execution_count": null,
   "metadata": {},
   "outputs": [],
   "source": [
    "from utilsADCN import dataLoader\n",
    "from ADCNbasic import ADCN\n",
    "from ADCNmainloop import ADCNmain\n",
    "from model import simpleMPL\n",
    "import numpy as np\n",
    "import pdb\n",
    "import torch\n",
    "import random\n",
    "from torchvision import datasets, transforms"
   ]
  },
  {
   "cell_type": "code",
   "execution_count": null,
   "metadata": {},
   "outputs": [],
   "source": []
  },
  {
   "cell_type": "code",
   "execution_count": null,
   "metadata": {},
   "outputs": [],
   "source": [
    "# random seed control\n",
    "np.random.seed(0)\n",
    "torch.manual_seed(0)\n",
    "random.seed(0)"
   ]
  },
  {
   "cell_type": "code",
   "execution_count": null,
   "metadata": {},
   "outputs": [],
   "source": []
  },
  {
   "cell_type": "code",
   "execution_count": null,
   "metadata": {},
   "outputs": [],
   "source": [
    "dataStream = dataLoader('./data/hyperplane2.mat')"
   ]
  },
  {
   "cell_type": "code",
   "execution_count": null,
   "metadata": {},
   "outputs": [],
   "source": []
  },
  {
   "cell_type": "code",
   "execution_count": null,
   "metadata": {},
   "outputs": [],
   "source": [
    "device = torch.device('cuda:0')"
   ]
  },
  {
   "cell_type": "code",
   "execution_count": null,
   "metadata": {},
   "outputs": [],
   "source": [
    "nHidNodeExtractor = dataStream.nInput*4\n",
    "nExtractedFeature = dataStream.nInput*4\n",
    "nFeaturClustering = dataStream.nInput*2"
   ]
  },
  {
   "cell_type": "code",
   "execution_count": null,
   "metadata": {},
   "outputs": [],
   "source": [
    "allMetrics = []"
   ]
  },
  {
   "cell_type": "code",
   "execution_count": null,
   "metadata": {},
   "outputs": [],
   "source": [
    "n_trials   = 5"
   ]
  },
  {
   "cell_type": "code",
   "execution_count": null,
   "metadata": {},
   "outputs": [],
   "source": []
  },
  {
   "cell_type": "code",
   "execution_count": null,
   "metadata": {
    "scrolled": true
   },
   "outputs": [],
   "source": [
    "for i_trial in range(0, n_trials):\n",
    "    print('Trial: ', i_trial)\n",
    "    ADCNnet         = ADCN(dataStream.nOutput, nInput = nExtractedFeature, nHiddenNode = nFeaturClustering)\n",
    "    ADCNnet.ADCNcnn = simpleMPL(dataStream.nInput, nNodes = nHidNodeExtractor, nOutput = nExtractedFeature)\n",
    "    ADCNnet.desiredLabels = [0,1]\n",
    "    ADCNnet, performanceHistory, allPerformance = ADCNmain(ADCNnet, dataStream, device = device)\n",
    "    allMetrics.append(allPerformance)"
   ]
  },
  {
   "cell_type": "code",
   "execution_count": null,
   "metadata": {},
   "outputs": [],
   "source": []
  },
  {
   "cell_type": "code",
   "execution_count": null,
   "metadata": {},
   "outputs": [],
   "source": [
    "# all results\n",
    "\n",
    "# 0: accuracy\n",
    "# 1: ARI\n",
    "# 2: NMI\n",
    "# 3: f1_score\n",
    "# 4: precision_score\n",
    "# 5: recall_score\n",
    "# 6: training_time\n",
    "# 7: testingTime\n",
    "# 8: nHiddenLayer\n",
    "# 9: nHiddenNode\n",
    "# 10: nCluster\n",
    "\n",
    "meanResults = np.round_(np.mean(allMetrics,0), decimals=2)\n",
    "stdResults  = np.round_(np.std(allMetrics,0), decimals=2)\n",
    "\n",
    "print('\\n')\n",
    "print('========== Performance SEA ==========')\n",
    "print('Preq Accuracy: ', meanResults[0].item(), '(+/-)',stdResults[0].item())\n",
    "print('ARI: ', meanResults[1].item(), '(+/-)',stdResults[1].item())\n",
    "print('NMI: ', meanResults[2].item(), '(+/-)',stdResults[2].item())\n",
    "print('F1 score: ', meanResults[3].item(), '(+/-)',stdResults[3].item())\n",
    "print('Precision: ', meanResults[4].item(), '(+/-)',stdResults[4].item())\n",
    "print('Recall: ', meanResults[5].item(), '(+/-)',stdResults[5].item())\n",
    "print('Training time: ', meanResults[6].item(), '(+/-)',stdResults[6].item())\n",
    "print('Testing time: ', meanResults[7].item(), '(+/-)',stdResults[7].item())\n",
    "\n",
    "print('\\n')\n",
    "print('========== Network ==========')\n",
    "print('Number of hidden layers: ', meanResults[8].item(), '(+/-)',stdResults[8].item())\n",
    "print('Number of features: ', meanResults[9].item(), '(+/-)',stdResults[9].item())\n",
    "print('Number of clusters: ', meanResults[10].item(), '(+/-)',stdResults[10].item())"
   ]
  },
  {
   "cell_type": "code",
   "execution_count": null,
   "metadata": {},
   "outputs": [],
   "source": []
  }
 ],
 "metadata": {
  "kernelspec": {
   "display_name": "Python 3",
   "language": "python",
   "name": "python3"
  },
  "language_info": {
   "codemirror_mode": {
    "name": "ipython",
    "version": 3
   },
   "file_extension": ".py",
   "mimetype": "text/x-python",
   "name": "python",
   "nbconvert_exporter": "python",
   "pygments_lexer": "ipython3",
   "version": "3.6.8"
  }
 },
 "nbformat": 4,
 "nbformat_minor": 4
}
