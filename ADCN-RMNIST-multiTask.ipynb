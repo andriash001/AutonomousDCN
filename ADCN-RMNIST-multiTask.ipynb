{
 "cells": [
  {
   "cell_type": "code",
   "execution_count": null,
   "metadata": {},
   "outputs": [],
   "source": [
    "from utilsADCN import mnistLoader, plotPerformance\n",
    "from ADCNbasic import ADCN\n",
    "from ADCNmainloop import ADCNmainMT\n",
    "import numpy as np\n",
    "import pdb\n",
    "import torch\n",
    "import random\n",
    "from torchvision import datasets, transforms"
   ]
  },
  {
   "cell_type": "code",
   "execution_count": null,
   "metadata": {},
   "outputs": [],
   "source": []
  },
  {
   "cell_type": "code",
   "execution_count": null,
   "metadata": {},
   "outputs": [],
   "source": [
    "# random seed control\n",
    "np.random.seed(0)\n",
    "torch.manual_seed(0)\n",
    "random.seed(0)"
   ]
  },
  {
   "cell_type": "code",
   "execution_count": null,
   "metadata": {},
   "outputs": [],
   "source": []
  },
  {
   "cell_type": "code",
   "execution_count": null,
   "metadata": {},
   "outputs": [],
   "source": [
    "# convert data to torch.FloatTensor\n",
    "transform = transforms.ToTensor()\n",
    "\n",
    "# load the training and test datasets\n",
    "labeledData   = datasets.MNIST(root='data', train=False,download=True, transform=transform)\n",
    "unlabeledData = datasets.MNIST(root='data', train=True, download=True, transform=transform)"
   ]
  },
  {
   "cell_type": "code",
   "execution_count": null,
   "metadata": {},
   "outputs": [],
   "source": []
  },
  {
   "cell_type": "code",
   "execution_count": null,
   "metadata": {},
   "outputs": [],
   "source": [
    "dataStream = mnistLoader(labeledData, unlabeledData, nEachClassSamples = 500)"
   ]
  },
  {
   "cell_type": "code",
   "execution_count": null,
   "metadata": {},
   "outputs": [],
   "source": [
    "device = torch.device('cuda:1')"
   ]
  },
  {
   "cell_type": "code",
   "execution_count": null,
   "metadata": {
    "scrolled": true
   },
   "outputs": [],
   "source": [
    "dataStream.createTask(nTask = 4, taskList = [[0,30],[31,60],[61,90],[91,120]], taskType = 2)"
   ]
  },
  {
   "cell_type": "code",
   "execution_count": null,
   "metadata": {},
   "outputs": [],
   "source": [
    "allMetrics = []"
   ]
  },
  {
   "cell_type": "code",
   "execution_count": null,
   "metadata": {},
   "outputs": [],
   "source": [
    "nNodeInit  = 96  # 96  # 32\n",
    "epoch      = 1\n",
    "n_trials   = 5"
   ]
  },
  {
   "cell_type": "code",
   "execution_count": null,
   "metadata": {},
   "outputs": [],
   "source": []
  },
  {
   "cell_type": "code",
   "execution_count": null,
   "metadata": {
    "scrolled": true
   },
   "outputs": [],
   "source": [
    "for i_trial in range(0, n_trials):\n",
    "    print('Trial: ', i_trial)\n",
    "    ADCNnet = ADCN(dataStream.nOutput, nHiddenNode = nNodeInit)\n",
    "    ADCNnet, performanceHistory0, allPerformance0 = ADCNmainMT(ADCNnet, dataStream, noOfEpoch = epoch, device = device)\n",
    "    allMetrics.append(allPerformance0)"
   ]
  },
  {
   "cell_type": "code",
   "execution_count": null,
   "metadata": {},
   "outputs": [],
   "source": []
  },
  {
   "cell_type": "code",
   "execution_count": null,
   "metadata": {},
   "outputs": [],
   "source": [
    "# all results\n",
    "\n",
    "# 0: accuracy\n",
    "# 1: all tasks accuracy\n",
    "# 2: BWT\n",
    "# 3: FWT\n",
    "# 4: ARI\n",
    "# 5: NMI\n",
    "# 6: f1_score\n",
    "# 7: precision_score\n",
    "# 8: recall_score\n",
    "# 9: training_time\n",
    "# 10: testingTime\n",
    "# 11: nHiddenLayer\n",
    "# 12: nHiddenNode\n",
    "# 13: nCluster\n",
    "# 14: nMemory\n",
    "\n",
    "meanResults = np.round_(np.mean(allMetrics,0), decimals=2)\n",
    "stdResults  = np.round_(np.std(allMetrics,0), decimals=2)\n",
    "\n",
    "print('\\n')\n",
    "print('========== Performance ==========')\n",
    "print('Preq Accuracy: ', meanResults[0].item(), '(+/-)',stdResults[0].item())\n",
    "print('All tasks accuracy: ', meanResults[1].item(), '(+/-)',stdResults[1].item())\n",
    "print('BWT: ', meanResults[2].item(), '(+/-)',stdResults[2].item())\n",
    "print('FWT: ', meanResults[3].item(), '(+/-)',stdResults[3].item())\n",
    "print('ARI: ', meanResults[4].item(), '(+/-)',stdResults[4].item())\n",
    "print('NMI: ', meanResults[5].item(), '(+/-)',stdResults[5].item())\n",
    "print('F1 score: ', meanResults[6].item(), '(+/-)',stdResults[6].item())\n",
    "print('Precision: ', meanResults[7].item(), '(+/-)',stdResults[7].item())\n",
    "print('Recall: ', meanResults[8].item(), '(+/-)',stdResults[8].item())\n",
    "print('Training time: ', meanResults[9].item(), '(+/-)',stdResults[9].item())\n",
    "print('Testing time: ', meanResults[10].item(), '(+/-)',stdResults[10].item())\n",
    "\n",
    "print('\\n')\n",
    "print('========== Network ==========')\n",
    "print('Number of hidden layers: ', meanResults[11].item(), '(+/-)',stdResults[11].item())\n",
    "print('Number of features: ', meanResults[12].item(), '(+/-)',stdResults[12].item())\n",
    "print('Number of clusters: ', meanResults[13].item(), '(+/-)',stdResults[13].item())"
   ]
  },
  {
   "cell_type": "code",
   "execution_count": null,
   "metadata": {},
   "outputs": [],
   "source": []
  }
 ],
 "metadata": {
  "kernelspec": {
   "display_name": "Python 3",
   "language": "python",
   "name": "python3"
  },
  "language_info": {
   "codemirror_mode": {
    "name": "ipython",
    "version": 3
   },
   "file_extension": ".py",
   "mimetype": "text/x-python",
   "name": "python",
   "nbconvert_exporter": "python",
   "pygments_lexer": "ipython3",
   "version": "3.6.8"
  }
 },
 "nbformat": 4,
 "nbformat_minor": 4
}
