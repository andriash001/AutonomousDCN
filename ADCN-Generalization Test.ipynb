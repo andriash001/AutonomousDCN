{
 "cells": [
  {
   "cell_type": "code",
   "execution_count": 1,
   "id": "a8f34b74",
   "metadata": {},
   "outputs": [],
   "source": [
    "from utilsADCN import mnistLoader, plotPerformance\n",
    "from ADCNbasic import ADCN\n",
    "from ADCNmainloop import ADCNmainTrainTest\n",
    "import numpy as np\n",
    "import pdb\n",
    "import torch\n",
    "import random\n",
    "from torchvision import datasets, transforms"
   ]
  },
  {
   "cell_type": "code",
   "execution_count": null,
   "id": "2ac48c29",
   "metadata": {},
   "outputs": [],
   "source": []
  },
  {
   "cell_type": "code",
   "execution_count": 2,
   "id": "30c79b1b",
   "metadata": {},
   "outputs": [],
   "source": [
    "# random seed control\n",
    "np.random.seed(0)\n",
    "torch.manual_seed(0)\n",
    "random.seed(0)"
   ]
  },
  {
   "cell_type": "code",
   "execution_count": null,
   "id": "321d1edb",
   "metadata": {},
   "outputs": [],
   "source": []
  },
  {
   "cell_type": "code",
   "execution_count": 3,
   "id": "3b99ee92",
   "metadata": {},
   "outputs": [],
   "source": [
    "# convert data to torch.FloatTensor\n",
    "transform = transforms.ToTensor()\n",
    "\n",
    "# load the training and test datasets\n",
    "labeledData   = datasets.MNIST(root='data', train=False,download=True, transform=transform)\n",
    "unlabeledData = datasets.MNIST(root='data', train=True, download=True, transform=transform)"
   ]
  },
  {
   "cell_type": "code",
   "execution_count": null,
   "id": "6e298ad8",
   "metadata": {},
   "outputs": [],
   "source": []
  },
  {
   "cell_type": "code",
   "execution_count": 4,
   "id": "0d5c6448",
   "metadata": {},
   "outputs": [
    {
     "name": "stdout",
     "output_type": "stream",
     "text": [
      "Number of output:  10\n",
      "Number of labeled data:  10000\n",
      "Number of unlabeled data:  60000\n",
      "Number of unlabeled data batch:  60\n"
     ]
    }
   ],
   "source": [
    "dataStream = mnistLoader(labeledData, unlabeledData)\n",
    "originalData = dataStream.unlabeledData.clone()\n",
    "originalLabel= dataStream.unlabeledLabel.clone()"
   ]
  },
  {
   "cell_type": "code",
   "execution_count": null,
   "id": "f8852ebf",
   "metadata": {},
   "outputs": [],
   "source": []
  },
  {
   "cell_type": "code",
   "execution_count": 5,
   "id": "58b65976",
   "metadata": {},
   "outputs": [],
   "source": [
    "device = torch.device('cuda:1')"
   ]
  },
  {
   "cell_type": "code",
   "execution_count": 6,
   "id": "527a0527",
   "metadata": {},
   "outputs": [],
   "source": [
    "errors = []"
   ]
  },
  {
   "cell_type": "code",
   "execution_count": null,
   "id": "06b332f6",
   "metadata": {},
   "outputs": [],
   "source": []
  },
  {
   "cell_type": "code",
   "execution_count": 7,
   "id": "a48df2a6",
   "metadata": {},
   "outputs": [
    {
     "name": "stdout",
     "output_type": "stream",
     "text": [
      "Fold : 0\n",
      "Network initialization phase is started\n",
      "\n",
      "\n",
      "Cluster initialization phase is started\n",
      "A cluster was created containing  2453  centroids\n",
      "Error:  26.41\n",
      "Fold : 1\n",
      "Network initialization phase is started\n",
      "\n",
      "\n",
      "Cluster initialization phase is started\n",
      "A cluster was created containing  2354  centroids\n",
      "Error:  26.56\n",
      "Fold : 2\n",
      "Network initialization phase is started\n",
      "\n",
      "\n",
      "Cluster initialization phase is started\n",
      "A cluster was created containing  2370  centroids\n",
      "Error:  26.0\n",
      "Fold : 3\n",
      "Network initialization phase is started\n",
      "\n",
      "\n",
      "Cluster initialization phase is started\n",
      "A cluster was created containing  2451  centroids\n",
      "Error:  25.45\n",
      "Fold : 4\n",
      "Network initialization phase is started\n",
      "\n",
      "\n",
      "Cluster initialization phase is started\n",
      "A cluster was created containing  2449  centroids\n",
      "Error:  26.79\n",
      "Fold : 5\n",
      "Network initialization phase is started\n",
      "\n",
      "\n",
      "Cluster initialization phase is started\n",
      "A cluster was created containing  2453  centroids\n",
      "Error:  25.74\n",
      "Fold : 6\n",
      "Network initialization phase is started\n",
      "\n",
      "\n",
      "Cluster initialization phase is started\n",
      "A cluster was created containing  2482  centroids\n",
      "Error:  25.58\n",
      "Fold : 7\n",
      "Network initialization phase is started\n",
      "\n",
      "\n",
      "Cluster initialization phase is started\n",
      "A cluster was created containing  2564  centroids\n",
      "Error:  28.42\n",
      "Fold : 8\n",
      "Network initialization phase is started\n",
      "\n",
      "\n",
      "Cluster initialization phase is started\n",
      "A cluster was created containing  2442  centroids\n",
      "Error:  27.95\n",
      "Fold : 9\n",
      "Network initialization phase is started\n",
      "\n",
      "\n",
      "Cluster initialization phase is started\n",
      "A cluster was created containing  2436  centroids\n",
      "Error:  24.21\n"
     ]
    }
   ],
   "source": [
    "for iFold in range(0,10):\n",
    "    print('Fold :',iFold)\n",
    "    dataStream.labeledData  = originalData[(5000+(iFold-1)*5000):(10000+(iFold-1)*5000)]\n",
    "    dataStream.labeledLabel = originalLabel[(5000+(iFold-1)*5000):(10000+(iFold-1)*5000)]\n",
    "\n",
    "    # preparing testing data   \n",
    "    dataStream.unlabeledData  = torch.cat((originalData [0:(5000+(iFold-1)*5000)],originalData [(10000+(iFold-1)*5000):50000]),0)\n",
    "    dataStream.unlabeledLabel = torch.cat((originalLabel[0:(5000+(iFold-1)*5000)],originalLabel[(10000+(iFold-1)*5000):50000]),0)\n",
    "    \n",
    "    # random seed control\n",
    "    np.random.seed(0)\n",
    "    torch.manual_seed(0)\n",
    "    random.seed(0)\n",
    "    \n",
    "    # training testing\n",
    "    ADCNnet = ADCN(dataStream.nOutput)\n",
    "    ADCNnet.evolving = False\n",
    "    accuracy = ADCNmainTrainTest(ADCNnet, dataStream, trainingBatchSize = 32, device = device)\n",
    "    errors.append(100 - accuracy)\n",
    "    print('Error: ', np.round(100 - accuracy,2))"
   ]
  },
  {
   "cell_type": "code",
   "execution_count": 8,
   "id": "ea66bf87",
   "metadata": {},
   "outputs": [
    {
     "data": {
      "text/plain": [
       "[26.41111111111111,\n",
       " 26.557777777777773,\n",
       " 26.004444444444445,\n",
       " 25.451111111111118,\n",
       " 26.78888888888889,\n",
       " 25.73777777777778,\n",
       " 25.577777777777783,\n",
       " 28.422222222222217,\n",
       " 27.948888888888888,\n",
       " 24.206666666666663]"
      ]
     },
     "execution_count": 8,
     "metadata": {},
     "output_type": "execute_result"
    }
   ],
   "source": [
    "errors"
   ]
  },
  {
   "cell_type": "code",
   "execution_count": 9,
   "id": "ed81c6b9",
   "metadata": {},
   "outputs": [
    {
     "name": "stdout",
     "output_type": "stream",
     "text": [
      "Accuracy:  28.42 +/- 1.36\n"
     ]
    }
   ],
   "source": [
    "print('Accuracy: ', np.round(np.max(errors),2),'+/-',np.round(np.std(errors)**2,2))"
   ]
  },
  {
   "cell_type": "code",
   "execution_count": null,
   "id": "485a71e5",
   "metadata": {},
   "outputs": [],
   "source": []
  }
 ],
 "metadata": {
  "kernelspec": {
   "display_name": "Python 3",
   "language": "python",
   "name": "python3"
  },
  "language_info": {
   "codemirror_mode": {
    "name": "ipython",
    "version": 3
   },
   "file_extension": ".py",
   "mimetype": "text/x-python",
   "name": "python",
   "nbconvert_exporter": "python",
   "pygments_lexer": "ipython3",
   "version": "3.6.8"
  }
 },
 "nbformat": 4,
 "nbformat_minor": 5
}
